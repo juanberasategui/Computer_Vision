{
 "cells": [
  {
   "cell_type": "code",
   "execution_count": 5,
   "metadata": {},
   "outputs": [],
   "source": [
    "import pandas as pd\n",
    "import numpy as np\n",
    "import matplotlib.pyplot as plt\n",
    "import cv2\n",
    "from transformers import YolosFeatureExtractor, YolosForObjectDetection\n",
    "from PIL import Image, ImageDraw\n",
    "from transformers import DetrImageProcessor, DetrForObjectDetection\n",
    "import torch\n",
    "from PIL import Image\n",
    "import requests"
   ]
  },
  {
   "cell_type": "code",
   "execution_count": null,
   "metadata": {},
   "outputs": [],
   "source": [
    "!pip install torch==1.8.1 torchvision==0.9.1 torchaudio===0.8.1 timm==0.3.2"
   ]
  },
  {
   "cell_type": "code",
   "execution_count": 2,
   "metadata": {},
   "outputs": [],
   "source": [
    "#Load the image\n",
    "image = Image.open(\"/Users/juan.gallego/kami-summer-internship-2023/668_817979665.jpg\")"
   ]
  },
  {
   "cell_type": "code",
   "execution_count": 20,
   "metadata": {},
   "outputs": [],
   "source": [
    "def object_detection(img, crop):\n",
    "\n",
    "    #Load the image\n",
    "    image = Image.open(img)\n",
    "\n",
    "    processor = DetrImageProcessor.from_pretrained(\"facebook/detr-resnet-50\")\n",
    "    model = DetrForObjectDetection.from_pretrained(\"facebook/detr-resnet-50\")\n",
    "\n",
    "    inputs = processor(images=image, return_tensors=\"pt\")\n",
    "    outputs = model(**inputs)\n",
    "\n",
    "    # convert outputs (bounding boxes and class logits) to COCO API\n",
    "    # let's only keep detections with score > 0.9\n",
    "    target_sizes = torch.tensor([image.size[::-1]])\n",
    "    results = processor.post_process_object_detection(outputs, target_sizes=target_sizes, threshold=0.9)[0]\n",
    "\n",
    "    coordinates= results[\"boxes\"].tolist()\n",
    "\n",
    "    xmin, ymin, xmax, ymax = coordinates[0][0], coordinates[0][1], coordinates[0][2], coordinates[0][3]\n",
    "    # Draw the bounding box on the image\n",
    "\n",
    "    draw = ImageDraw.Draw(image)\n",
    "    draw.rectangle([(xmin, ymin), (xmax, ymax)], outline=\"red\", width=4)\n",
    "\n",
    "    \n",
    "\n",
    "    if crop == True:\n",
    "    #crop the image according to the bounding box\n",
    "        crop_img = image.crop((xmin, ymin, xmax, ymax))\n",
    "        return crop_img.show()\n",
    "    \n",
    "    else:\n",
    "        return image.show()"
   ]
  },
  {
   "cell_type": "code",
   "execution_count": 21,
   "metadata": {},
   "outputs": [],
   "source": [
    "object_detection(\"/Users/juan.gallego/kami-summer-internship-2023/668_817979665.jpg\", crop=True)\n"
   ]
  }
 ],
 "metadata": {
  "kernelspec": {
   "display_name": "api",
   "language": "python",
   "name": "python3"
  },
  "language_info": {
   "codemirror_mode": {
    "name": "ipython",
    "version": 3
   },
   "file_extension": ".py",
   "mimetype": "text/x-python",
   "name": "python",
   "nbconvert_exporter": "python",
   "pygments_lexer": "ipython3",
   "version": "3.9.16"
  },
  "orig_nbformat": 4
 },
 "nbformat": 4,
 "nbformat_minor": 2
}
